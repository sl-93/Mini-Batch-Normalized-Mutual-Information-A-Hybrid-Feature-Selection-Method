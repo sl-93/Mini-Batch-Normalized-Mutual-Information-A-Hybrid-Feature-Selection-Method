{
  "nbformat": 4,
  "nbformat_minor": 0,
  "metadata": {
    "colab": {
      "name": "Untitled3.py",
      "provenance": [],
      "collapsed_sections": [],
      "authorship_tag": "ABX9TyOk/LgwrJphrWbeWjQpV+RB",
      "include_colab_link": true
    },
    "kernelspec": {
      "name": "python3",
      "display_name": "Python 3"
    }
  },
  "cells": [
    {
      "cell_type": "markdown",
      "metadata": {
        "id": "view-in-github",
        "colab_type": "text"
      },
      "source": [
        "<a href=\"https://colab.research.google.com/github/sl-93/Mini-Batch-Normalized-Mutual-Information-A-Hybrid-Feature-Selection-Method/blob/master/Untitled3_py.ipynb\" target=\"_parent\"><img src=\"https://colab.research.google.com/assets/colab-badge.svg\" alt=\"Open In Colab\"/></a>"
      ]
    },
    {
      "cell_type": "code",
      "metadata": {
        "id": "9mCMlbmmgbGf",
        "colab_type": "code",
        "colab": {}
      },
      "source": [
        "import numpy"
      ],
      "execution_count": 1,
      "outputs": []
    }
  ]
}